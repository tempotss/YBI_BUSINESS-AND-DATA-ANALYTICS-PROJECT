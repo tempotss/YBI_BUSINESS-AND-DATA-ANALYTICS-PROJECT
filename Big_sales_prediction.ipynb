Big Sales Prediction using Random Forest Regressor | Machine Learning Project
Objective
To Devolop a machine learning model using the Random Forest Regressor algorithm to predict sales of products based on features such as item weight, visibility, MRP, outlet establishment year, and other relevant factors. By analyzing and preprocessing the given sales data, the goal is to build a predictive model that can accurately forecast sales and help businesses optimize their inventory and marketing strategies.

Data source
https://raw.githubusercontent.com/YBI-Foundation/Dataset/main/Big%20Sales%20Data.

import library

import numpy as np
import pandas as pd
import matplotlib.pyplot as plt
import seaborn as sns
     
import data

df=pd.read_csv('https://raw.githubusercontent.com/YBI-Foundation/Dataset/main/Big%20Sales%20Data.csv')
     
Describe data

df.head()
     
Item_Identifier	Item_Weight	Item_Fat_Content	Item_Visibility	Item_Type	Item_MRP	Outlet_Identifier	Outlet_Establishment_Year	Outlet_Size	Outlet_Location_Type	Outlet_Type	Item_Outlet_Sales
0	FDT36	12.3	Low Fat	0.111448	Baking Goods	33.4874	OUT049	1999	Medium	Tier 1	Supermarket Type1	436.608721
1	FDT36	12.3	Low Fat	0.111904	Baking Goods	33.9874	OUT017	2007	Medium	Tier 2	Supermarket Type1	443.127721
2	FDT36	12.3	LF	0.111728	Baking Goods	33.9874	OUT018	2009	Medium	Tier 3	Supermarket Type2	564.598400
3	FDT36	12.3	Low Fat	0.000000	Baking Goods	34.3874	OUT019	1985	Small	Tier 1	Grocery Store	1719.370000
4	FDP12	9.8	Regular	0.045523	Baking Goods	35.0874	OUT017	2007	Medium	Tier 2	Supermarket Type1	352.874000

df.describe()
     
Item_Weight	Item_Visibility	Item_MRP	Outlet_Establishment_Year	Item_Outlet_Sales
count	11815.000000	14204.000000	14204.000000	14204.000000	14204.000000
mean	12.788355	0.065953	141.004977	1997.830681	2185.836320
std	4.654126	0.051459	62.086938	8.371664	1827.479550
min	4.555000	0.000000	31.290000	1985.000000	33.290000
25%	8.710000	0.027036	94.012000	1987.000000	922.135101
50%	12.500000	0.054021	142.247000	1999.000000	1768.287680
75%	16.750000	0.094037	185.855600	2004.000000	2988.110400
max	30.000000	0.328391	266.888400	2009.000000	31224.726950

df.info()
     
<class 'pandas.core.frame.DataFrame'>
RangeIndex: 14204 entries, 0 to 14203
Data columns (total 12 columns):
 #   Column                     Non-Null Count  Dtype  
---  ------                     --------------  -----  
 0   Item_Identifier            14204 non-null  object 
 1   Item_Weight                11815 non-null  float64
 2   Item_Fat_Content           14204 non-null  object 
 3   Item_Visibility            14204 non-null  float64
 4   Item_Type                  14204 non-null  object 
 5   Item_MRP                   14204 non-null  float64
 6   Outlet_Identifier          14204 non-null  object 
 7   Outlet_Establishment_Year  14204 non-null  int64  
 8   Outlet_Size                14204 non-null  object 
 9   Outlet_Location_Type       14204 non-null  object 
 10  Outlet_Type                14204 non-null  object 
 11  Item_Outlet_Sales          14204 non-null  float64
dtypes: float64(4), int64(1), object(7)
memory usage: 1.3+ MB

df.columns
     
Index(['Item_Identifier', 'Item_Weight', 'Item_Fat_Content', 'Item_Visibility',
       'Item_Type', 'Item_MRP', 'Outlet_Identifier',
       'Outlet_Establishment_Year', 'Outlet_Size', 'Outlet_Location_Type',
       'Outlet_Type', 'Item_Outlet_Sales'],
      dtype='object')
Data Visulaization

sns.pairplot(df)
     
<seaborn.axisgrid.PairGrid at 0x7aa612d1a590>

Data Preprocesssing

df.Item_Identifier.value_counts()

     
Item_Identifier
FDT36    10
FDG09    10
FDZ56    10
FDT19    10
FDD56    10
         ..
NCW54     7
FDS22     7
FDM50     7
FDX49     7
DRN11     7
Name: count, Length: 1559, dtype: int64

df.Item_Fat_Content.value_counts()
     
Item_Fat_Content
Low Fat    8485
Regular    4824
LF          522
reg         195
low fat     178
Name: count, dtype: int64

df.replace({'Item_Fat_Content':{'low fat':'Low Fat','LF':'Low Fat','reg':'Regular'}},inplace=True)
     

df.Item_Fat_Content.value_counts()
     
Item_Fat_Content
Low Fat    9185
Regular    5019
Name: count, dtype: int64

df.replace({'Item_Fat_Content':{'Low Fat':0,'Regular':1}},inplace=True)
     

df.Item_Type.value_counts()
     
Item_Type
Fruits and Vegetables    2013
Snack Foods              1989
Household                1548
Frozen Foods             1426
Dairy                    1136
Baking Goods             1086
Canned                   1084
Health and Hygiene        858
Meat                      736
Soft Drinks               726
Breads                    416
Hard Drinks               362
Others                    280
Starchy Foods             269
Breakfast                 186
Seafood                    89
Name: count, dtype: int64

df.replace({'Item_Type':{
'Fruits and Vegetables':0,
'Snack Foods':0,
'Household':1,
'Frozen Foods':0,
'Dairy':0,
'Baking Goods':0,
'Canned':0,
'Health and Hygiene':1,
'Meat':0,
'Soft Drinks':0,
'Breads':0,
'Hard Drinks':0,
'Others':2,
'Starchy Foods':0,
'Breakfast':0,
'Seafood':0}},inplace=True)

     

df.Item_Type.value_counts()
     
Item_Type
0    11518
1     2406
2      280
Name: count, dtype: int64

df.Outlet_Identifier.value_counts()
     
Outlet_Identifier
OUT027    1559
OUT013    1553
OUT049    1550
OUT046    1550
OUT035    1550
OUT045    1548
OUT018    1546
OUT017    1543
OUT010     925
OUT019     880
Name: count, dtype: int64

df.replace({'Outlet_Identifier':{'OUT027':0,'OUT013':1,'OUT049':2,
                                 'OUT046':3,'OUT035':4,'OUT045':5,
                                 'OUT018':6,'OUT017':7,'OUT010':8,
                                 'OUT019':9},},inplace=True)
     

df.Item_Identifier.value_counts()
     
Item_Identifier
FDT36    10
FDG09    10
FDZ56    10
FDT19    10
FDD56    10
         ..
NCW54     7
FDS22     7
FDM50     7
FDX49     7
DRN11     7
Name: count, Length: 1559, dtype: int64

df.Outlet_Size.value_counts()
     
Outlet_Size
Medium    7122
Small     5529
High      1553
Name: count, dtype: int64

df.replace({'Outlet_Size':{'Small':0,'Medium':1,'High':2}},inplace=True)
     

df.Outlet_Type.value_counts()
     
Outlet_Type
Supermarket Type1    9294
Grocery Store        1805
Supermarket Type3    1559
Supermarket Type2    1546
Name: count, dtype: int64

df.replace({'Outlet_Type':{'Supermarket Type1':0,'Supermarket Type2':1,'Grocery Store':2,'Supermarket Type3':3}},inplace=True)
     

df.Outlet_Type.value_counts()
     
Outlet_Type
0    9294
2    1805
3    1559
1    1546
Name: count, dtype: int64

df.head()
     
Item_Identifier	Item_Weight	Item_Fat_Content	Item_Visibility	Item_Type	Item_MRP	Outlet_Identifier	Outlet_Establishment_Year	Outlet_Size	Outlet_Location_Type	Outlet_Type	Item_Outlet_Sales
0	FDT36	12.3	0	0.111448	0	33.4874	2	1999	1	Tier 1	0	436.608721
1	FDT36	12.3	0	0.111904	0	33.9874	7	2007	1	Tier 2	0	443.127721
2	FDT36	12.3	0	0.111728	0	33.9874	6	2009	1	Tier 3	1	564.598400
3	FDT36	12.3	0	0.000000	0	34.3874	9	1985	0	Tier 1	2	1719.370000
4	FDP12	9.8	1	0.045523	0	35.0874	7	2007	1	Tier 2	0	352.874000

df.info()
     
<class 'pandas.core.frame.DataFrame'>
RangeIndex: 14204 entries, 0 to 14203
Data columns (total 12 columns):
 #   Column                     Non-Null Count  Dtype  
---  ------                     --------------  -----  
 0   Item_Identifier            14204 non-null  object 
 1   Item_Weight                11815 non-null  float64
 2   Item_Fat_Content           14204 non-null  int64  
 3   Item_Visibility            14204 non-null  float64
 4   Item_Type                  14204 non-null  int64  
 5   Item_MRP                   14204 non-null  float64
 6   Outlet_Identifier          14204 non-null  int64  
 7   Outlet_Establishment_Year  14204 non-null  int64  
 8   Outlet_Size                14204 non-null  int64  
 9   Outlet_Location_Type       14204 non-null  object 
 10  Outlet_Type                14204 non-null  int64  
 11  Item_Outlet_Sales          14204 non-null  float64
dtypes: float64(4), int64(6), object(2)
memory usage: 1.3+ MB

df.Outlet_Location_Type.value_counts()
     
Outlet_Location_Type
Tier 3    5583
Tier 2    4641
Tier 1    3980
Name: count, dtype: int64

df.replace({'Outlet_Location_Type':{'Tier 1':0,'Tier 2':1,'Tier 3':2}},inplace=True)
     


     

df.shape
     
(14204, 12)
Define Target Variable (y) and Feature Variables (X)

y=df.Item_Outlet_Sales
     

y.shape
     
(14204,)

X=df.drop(['Item_Identifier','Item_Outlet_Sales'],axis=1)
     

X.shape
     
(14204, 10)

X
     
Item_Weight	Item_Fat_Content	Item_Visibility	Item_Type	Item_MRP	Outlet_Identifier	Outlet_Establishment_Year	Outlet_Size	Outlet_Location_Type	Outlet_Type
0	12.3	0	0.111448	0	33.4874	2	1999	1	0	0
1	12.3	0	0.111904	0	33.9874	7	2007	1	1	0
2	12.3	0	0.111728	0	33.9874	6	2009	1	2	1
3	12.3	0	0.000000	0	34.3874	9	1985	0	0	2
4	9.8	1	0.045523	0	35.0874	7	2007	1	1	0
...	...	...	...	...	...	...	...	...	...	...
14199	12.8	0	0.069606	0	261.9252	4	2004	0	1	0
14200	12.8	0	0.070013	0	262.8252	7	2007	1	1	0
14201	12.8	0	0.069561	0	263.0252	1	1987	2	2	0
14202	NaN	0	0.069282	0	263.5252	0	1985	1	2	3
14203	12.8	0	0.069727	0	263.6252	2	1999	1	0	0
14204 rows × 10 columns


from sklearn.preprocessing import StandardScaler
     

sc=StandardScaler()
     

X_std=df[['Item_Weight','Item_Visibility','Item_MRP','Outlet_Establishment_Year']]
     

X_std=sc.fit_transform(X_std)
     

X_std
     
array([[-0.10493402,  0.88413635, -1.73178716,  0.13968068],
       [-0.10493402,  0.89300616, -1.72373366,  1.09531886],
       [-0.10493402,  0.88958331, -1.72373366,  1.3342284 ],
       ...,
       [ 0.00250208,  0.07011952,  1.96538148, -1.29377659],
       [        nan,  0.06469366,  1.97343499, -1.53268614],
       [ 0.00250208,  0.07334891,  1.97504569,  0.13968068]])

X[['Item_Weight','Item_Visibility','Item_MRP','Outlet_Establishment_Year']]=pd.DataFrame(X_std,columns=[['Item_Weight','Item_Visibility','Item_MRP','Outlet_Establishment_Year']])
     

X
     
Item_Weight	Item_Fat_Content	Item_Visibility	Item_Type	Item_MRP	Outlet_Identifier	Outlet_Establishment_Year	Outlet_Size	Outlet_Location_Type	Outlet_Type
0	-0.104934	0	0.884136	0	-1.731787	2	0.139681	1	0	0
1	-0.104934	0	0.893006	0	-1.723734	7	1.095319	1	1	0
2	-0.104934	0	0.889583	0	-1.723734	6	1.334228	1	2	1
3	-0.104934	0	-1.281712	0	-1.717291	9	-1.532686	0	0	2
4	-0.642115	1	-0.397031	0	-1.706016	7	1.095319	1	1	0
...	...	...	...	...	...	...	...	...	...	...
14199	0.002502	0	0.070990	0	1.947664	4	0.736955	0	1	0
14200	0.002502	0	0.078898	0	1.962160	7	1.095319	1	1	0
14201	0.002502	0	0.070120	0	1.965381	1	-1.293777	2	2	0
14202	NaN	0	0.064694	0	1.973435	0	-1.532686	1	2	3
14203	0.002502	0	0.073349	0	1.975046	2	0.139681	1	0	0
14204 rows × 10 columns


X = X.fillna(X.mean())
     
Train Test Split

from sklearn.model_selection import train_test_split
     

X_train,X_test,y_train,y_test=train_test_split(X,y,test_size=0.1,random_state=2529)
     

X_train.shape,X_test.shape,y_train.shape,y_test.shape
     
((12783, 10), (1421, 10), (12783,), (1421,))
Modeling

from sklearn.ensemble import RandomForestRegressor
     

rfr=RandomForestRegressor(random_state=2529)
     

X_train.columns
     
Index(['Item_Weight', 'Item_Fat_Content', 'Item_Visibility', 'Item_Type',
       'Item_MRP', 'Outlet_Identifier', 'Outlet_Establishment_Year',
       'Outlet_Size', 'Outlet_Location_Type', 'Outlet_Type'],
      dtype='object')

X_train.info()
     
<class 'pandas.core.frame.DataFrame'>
Index: 12783 entries, 2741 to 13664
Data columns (total 10 columns):
 #   Column                     Non-Null Count  Dtype  
---  ------                     --------------  -----  
 0   Item_Weight                12783 non-null  float64
 1   Item_Fat_Content           12783 non-null  int64  
 2   Item_Visibility            12783 non-null  float64
 3   Item_Type                  12783 non-null  int64  
 4   Item_MRP                   12783 non-null  float64
 5   Outlet_Identifier          12783 non-null  int64  
 6   Outlet_Establishment_Year  12783 non-null  float64
 7   Outlet_Size                12783 non-null  int64  
 8   Outlet_Location_Type       12783 non-null  int64  
 9   Outlet_Type                12783 non-null  int64  
dtypes: float64(4), int64(6)
memory usage: 1.1 MB

X_train.shape
     
(12783, 10)

X_train.head()
     
Item_Weight	Item_Fat_Content	Item_Visibility	Item_Type	Item_MRP	Outlet_Identifier	Outlet_Establishment_Year	Outlet_Size	Outlet_Location_Type	Outlet_Type
2741	1.839659	0	0.057849	0	1.910660	2	0.139681	1	0	0
12697	-1.327557	1	-0.718011	0	0.726182	4	0.736955	0	1	0
13396	-1.398465	0	-0.741104	0	-0.888868	6	1.334228	1	2	1
5671	-1.331854	0	0.773634	0	-0.903832	2	0.139681	1	0	0
1214	-1.340449	0	-0.804341	0	-0.645437	2	0.139681	1	0	0

X_train = X_train.fillna(X_train.mean())
     

rfr.fit(X_train,y_train)
     
RandomForestRegressor(random_state=2529)
In a Jupyter environment, please rerun this cell to show the HTML representation or trust the notebook.
On GitHub, the HTML representation is unable to render, please try loading this page with nbviewer.org.
Prediction

y_pred=rfr.predict(X_test)
     

y_pred.shape
     
(1421,)

y_pred
     
array([1436.15817203,  867.80204056, 1885.59228137, ..., 2208.3172901 ,
       3301.81424839,  436.889585  ])
Model Evaluation

from sklearn.metrics import mean_squared_error,mean_absolute_error,r2_score
     

mean_squared_error(y_test,y_pred)
     
1608816.1970965683

mean_absolute_error(y_test,y_pred)
     
818.970664651565

r2_score(y_test,y_pred)
     
0.5812490303896031
Get Visualization of Actual Vs Predicted Results

import matplotlib.pyplot as plt
plt.scatter(y_test,y_pred)
plt.xlabel("Actual Prices")
plt.ylabel("Predicted Prices")
plt.title("Actual Price vs Predicted Price")
plt.show()
     
